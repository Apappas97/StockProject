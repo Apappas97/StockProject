{
 "cells": [
  {
   "cell_type": "code",
   "execution_count": 1,
   "id": "cf7afa64",
   "metadata": {},
   "outputs": [],
   "source": [
    "# Import finance API and get historical stock data\n",
    "import yfinance as yf # a package that lets you download stock prices\n",
    "msft = yf.Ticker(\"MSFT\") # to use this package, we have to create a ticker object\n",
    "msft_hist = msft.history(period=\"max\") # download the whole full price history of microsoft by specifying \"Peiod = max\""
   ]
  },
  {
   "cell_type": "code",
   "execution_count": 2,
   "id": "02ee1693",
   "metadata": {},
   "outputs": [
    {
     "data": {
      "text/html": [
       "<div>\n",
       "<style scoped>\n",
       "    .dataframe tbody tr th:only-of-type {\n",
       "        vertical-align: middle;\n",
       "    }\n",
       "\n",
       "    .dataframe tbody tr th {\n",
       "        vertical-align: top;\n",
       "    }\n",
       "\n",
       "    .dataframe thead th {\n",
       "        text-align: right;\n",
       "    }\n",
       "</style>\n",
       "<table border=\"1\" class=\"dataframe\">\n",
       "  <thead>\n",
       "    <tr style=\"text-align: right;\">\n",
       "      <th></th>\n",
       "      <th>Open</th>\n",
       "      <th>High</th>\n",
       "      <th>Low</th>\n",
       "      <th>Close</th>\n",
       "      <th>Volume</th>\n",
       "      <th>Dividends</th>\n",
       "      <th>Stock Splits</th>\n",
       "    </tr>\n",
       "    <tr>\n",
       "      <th>Date</th>\n",
       "      <th></th>\n",
       "      <th></th>\n",
       "      <th></th>\n",
       "      <th></th>\n",
       "      <th></th>\n",
       "      <th></th>\n",
       "      <th></th>\n",
       "    </tr>\n",
       "  </thead>\n",
       "  <tbody>\n",
       "    <tr>\n",
       "      <th>1986-03-13</th>\n",
       "      <td>0.055783</td>\n",
       "      <td>0.063987</td>\n",
       "      <td>0.055783</td>\n",
       "      <td>0.061252</td>\n",
       "      <td>1031788800</td>\n",
       "      <td>0.0</td>\n",
       "      <td>0.0</td>\n",
       "    </tr>\n",
       "    <tr>\n",
       "      <th>1986-03-14</th>\n",
       "      <td>0.061252</td>\n",
       "      <td>0.064533</td>\n",
       "      <td>0.061252</td>\n",
       "      <td>0.063439</td>\n",
       "      <td>308160000</td>\n",
       "      <td>0.0</td>\n",
       "      <td>0.0</td>\n",
       "    </tr>\n",
       "    <tr>\n",
       "      <th>1986-03-17</th>\n",
       "      <td>0.063439</td>\n",
       "      <td>0.065080</td>\n",
       "      <td>0.063439</td>\n",
       "      <td>0.064533</td>\n",
       "      <td>133171200</td>\n",
       "      <td>0.0</td>\n",
       "      <td>0.0</td>\n",
       "    </tr>\n",
       "    <tr>\n",
       "      <th>1986-03-18</th>\n",
       "      <td>0.064533</td>\n",
       "      <td>0.065080</td>\n",
       "      <td>0.062345</td>\n",
       "      <td>0.062892</td>\n",
       "      <td>67766400</td>\n",
       "      <td>0.0</td>\n",
       "      <td>0.0</td>\n",
       "    </tr>\n",
       "    <tr>\n",
       "      <th>1986-03-19</th>\n",
       "      <td>0.062892</td>\n",
       "      <td>0.063439</td>\n",
       "      <td>0.061252</td>\n",
       "      <td>0.061799</td>\n",
       "      <td>47894400</td>\n",
       "      <td>0.0</td>\n",
       "      <td>0.0</td>\n",
       "    </tr>\n",
       "  </tbody>\n",
       "</table>\n",
       "</div>"
      ],
      "text/plain": [
       "                Open      High       Low     Close      Volume  Dividends  \\\n",
       "Date                                                                        \n",
       "1986-03-13  0.055783  0.063987  0.055783  0.061252  1031788800        0.0   \n",
       "1986-03-14  0.061252  0.064533  0.061252  0.063439   308160000        0.0   \n",
       "1986-03-17  0.063439  0.065080  0.063439  0.064533   133171200        0.0   \n",
       "1986-03-18  0.064533  0.065080  0.062345  0.062892    67766400        0.0   \n",
       "1986-03-19  0.062892  0.063439  0.061252  0.061799    47894400        0.0   \n",
       "\n",
       "            Stock Splits  \n",
       "Date                      \n",
       "1986-03-13           0.0  \n",
       "1986-03-14           0.0  \n",
       "1986-03-17           0.0  \n",
       "1986-03-18           0.0  \n",
       "1986-03-19           0.0  "
      ]
     },
     "execution_count": 2,
     "metadata": {},
     "output_type": "execute_result"
    }
   ],
   "source": [
    "# Explore the stock history by looking at the first 5 postings\n",
    "msft_hist.head(5)\n",
    "\n",
    "# Shows that microsoft first started trading in 1986 and it was about 5 cents that first day\n",
    "\n",
    "# Open - The price of the stock of which it opened on that day\n",
    "# High - The highest price during the day\n",
    "# Low - The lowest price during the day\n",
    "# Close - The closing price at the end of the day \n",
    "# Volume - The number of shares that were bought and sold during the day"
   ]
  },
  {
   "cell_type": "code",
   "execution_count": 3,
   "id": "fe171543",
   "metadata": {},
   "outputs": [
    {
     "data": {
      "text/plain": [
       "Open            0\n",
       "High            0\n",
       "Low             0\n",
       "Close           0\n",
       "Volume          0\n",
       "Dividends       0\n",
       "Stock Splits    0\n",
       "dtype: int64"
      ]
     },
     "execution_count": 3,
     "metadata": {},
     "output_type": "execute_result"
    }
   ],
   "source": [
    "# Checking for null values \n",
    "\n",
    "msft_hist.isnull().sum()"
   ]
  },
  {
   "cell_type": "code",
   "execution_count": 4,
   "id": "8176066b",
   "metadata": {},
   "outputs": [
    {
     "data": {
      "text/plain": [
       "<AxesSubplot:xlabel='Date'>"
      ]
     },
     "execution_count": 4,
     "metadata": {},
     "output_type": "execute_result"
    },
    {
     "data": {
      "image/png": "[encoded data removed]",
      "text/plain": [
       "<Figure size 432x288 with 1 Axes>"
      ]
     },
     "metadata": {
      "needs_background": "light"
     },
     "output_type": "display_data"
    }
   ],
   "source": [
    "# Visualize microsoft stock prices. Index is all of the dates\n",
    "msft_hist.plot.line(y=\"Close\", use_index=True)"
   ]
  },
  {
   "cell_type": "code",
   "execution_count": 5,
   "id": "c2b0cdce",
   "metadata": {},
   "outputs": [
    {
     "data": {
      "text/plain": [
       "1.0    4604\n",
       "0.0    4501\n",
       "Name: Target, dtype: int64"
      ]
     },
     "execution_count": 5,
     "metadata": {},
     "output_type": "execute_result"
    }
   ],
   "source": [
    "# Prepare the data for machine learning \n",
    "\n",
    "# First thing to do, is to set up the data with our target\n",
    "# Our target is for us to find out whether stock price will go up or down tomorrow  \n",
    "\n",
    "# what rolling does, is it goes across the data frame. \n",
    "# in this instance, it will look at first 2 rows, then the next 2, and so on...\n",
    "# what we can say is.. if the second row is higher than the first row, return 1, otherwise return 0. \n",
    "\n",
    "# Ensure we know the actual closing price\n",
    "data = msft_hist[[\"Close\"]]\n",
    "data = data.rename(columns = {\"Close\":\"Actual_Close\"})\n",
    "\n",
    "# Setup our target.  This identifies if the price went up or down\n",
    "data[\"Target\"] = msft_hist.rolling(2).apply(lambda x: x.iloc[1] > x.iloc[0])[\"Close\"]\n",
    "\n",
    "# Checking to see if there is a class imbalance issue. \n",
    "# Classes are evenly distributed for the most part (i.e. days where the price went up vs went down are evenly distributed)\n",
    "data[\"Target\"].value_counts()"
   ]
  },
  {
   "cell_type": "code",
   "execution_count": 6,
   "id": "ba70b8aa",
   "metadata": {},
   "outputs": [
    {
     "data": {
      "text/html": [
       "<div>\n",
       "<style scoped>\n",
       "    .dataframe tbody tr th:only-of-type {\n",
       "        vertical-align: middle;\n",
       "    }\n",
       "\n",
       "    .dataframe tbody tr th {\n",
       "        vertical-align: top;\n",
       "    }\n",
       "\n",
       "    .dataframe thead th {\n",
       "        text-align: right;\n",
       "    }\n",
       "</style>\n",
       "<table border=\"1\" class=\"dataframe\">\n",
       "  <thead>\n",
       "    <tr style=\"text-align: right;\">\n",
       "      <th></th>\n",
       "      <th>Actual_Close</th>\n",
       "      <th>Target</th>\n",
       "    </tr>\n",
       "    <tr>\n",
       "      <th>Date</th>\n",
       "      <th></th>\n",
       "      <th></th>\n",
       "    </tr>\n",
       "  </thead>\n",
       "  <tbody>\n",
       "    <tr>\n",
       "      <th>1986-03-13</th>\n",
       "      <td>0.061252</td>\n",
       "      <td>NaN</td>\n",
       "    </tr>\n",
       "    <tr>\n",
       "      <th>1986-03-14</th>\n",
       "      <td>0.063439</td>\n",
       "      <td>1.0</td>\n",
       "    </tr>\n",
       "    <tr>\n",
       "      <th>1986-03-17</th>\n",
       "      <td>0.064533</td>\n",
       "      <td>1.0</td>\n",
       "    </tr>\n",
       "    <tr>\n",
       "      <th>1986-03-18</th>\n",
       "      <td>0.062892</td>\n",
       "      <td>0.0</td>\n",
       "    </tr>\n",
       "    <tr>\n",
       "      <th>1986-03-19</th>\n",
       "      <td>0.061799</td>\n",
       "      <td>0.0</td>\n",
       "    </tr>\n",
       "  </tbody>\n",
       "</table>\n",
       "</div>"
      ],
      "text/plain": [
       "            Actual_Close  Target\n",
       "Date                            \n",
       "1986-03-13      0.061252     NaN\n",
       "1986-03-14      0.063439     1.0\n",
       "1986-03-17      0.064533     1.0\n",
       "1986-03-18      0.062892     0.0\n",
       "1986-03-19      0.061799     0.0"
      ]
     },
     "execution_count": 6,
     "metadata": {},
     "output_type": "execute_result"
    }
   ],
   "source": [
    "data.head(5)"
   ]
  },
  {
   "cell_type": "code",
   "execution_count": 7,
   "id": "439e6bf4",
   "metadata": {},
   "outputs": [],
   "source": [
    "# it is 1.0 when the closing price was higher than the day before and 0.0 otherise."
   ]
  },
  {
   "cell_type": "code",
   "execution_count": 8,
   "id": "f199d7a9",
   "metadata": {},
   "outputs": [
    {
     "data": {
      "text/html": [
       "<div>\n",
       "<style scoped>\n",
       "    .dataframe tbody tr th:only-of-type {\n",
       "        vertical-align: middle;\n",
       "    }\n",
       "\n",
       "    .dataframe tbody tr th {\n",
       "        vertical-align: top;\n",
       "    }\n",
       "\n",
       "    .dataframe thead th {\n",
       "        text-align: right;\n",
       "    }\n",
       "</style>\n",
       "<table border=\"1\" class=\"dataframe\">\n",
       "  <thead>\n",
       "    <tr style=\"text-align: right;\">\n",
       "      <th></th>\n",
       "      <th>Open</th>\n",
       "      <th>High</th>\n",
       "      <th>Low</th>\n",
       "      <th>Close</th>\n",
       "      <th>Volume</th>\n",
       "      <th>Dividends</th>\n",
       "      <th>Stock Splits</th>\n",
       "    </tr>\n",
       "    <tr>\n",
       "      <th>Date</th>\n",
       "      <th></th>\n",
       "      <th></th>\n",
       "      <th></th>\n",
       "      <th></th>\n",
       "      <th></th>\n",
       "      <th></th>\n",
       "      <th></th>\n",
       "    </tr>\n",
       "  </thead>\n",
       "  <tbody>\n",
       "    <tr>\n",
       "      <th>1986-03-13</th>\n",
       "      <td>NaN</td>\n",
       "      <td>NaN</td>\n",
       "      <td>NaN</td>\n",
       "      <td>NaN</td>\n",
       "      <td>NaN</td>\n",
       "      <td>NaN</td>\n",
       "      <td>NaN</td>\n",
       "    </tr>\n",
       "    <tr>\n",
       "      <th>1986-03-14</th>\n",
       "      <td>0.055783</td>\n",
       "      <td>0.063987</td>\n",
       "      <td>0.055783</td>\n",
       "      <td>0.061252</td>\n",
       "      <td>1.031789e+09</td>\n",
       "      <td>0.0</td>\n",
       "      <td>0.0</td>\n",
       "    </tr>\n",
       "    <tr>\n",
       "      <th>1986-03-17</th>\n",
       "      <td>0.061252</td>\n",
       "      <td>0.064533</td>\n",
       "      <td>0.061252</td>\n",
       "      <td>0.063439</td>\n",
       "      <td>3.081600e+08</td>\n",
       "      <td>0.0</td>\n",
       "      <td>0.0</td>\n",
       "    </tr>\n",
       "    <tr>\n",
       "      <th>1986-03-18</th>\n",
       "      <td>0.063439</td>\n",
       "      <td>0.065080</td>\n",
       "      <td>0.063439</td>\n",
       "      <td>0.064533</td>\n",
       "      <td>1.331712e+08</td>\n",
       "      <td>0.0</td>\n",
       "      <td>0.0</td>\n",
       "    </tr>\n",
       "    <tr>\n",
       "      <th>1986-03-19</th>\n",
       "      <td>0.064533</td>\n",
       "      <td>0.065080</td>\n",
       "      <td>0.062345</td>\n",
       "      <td>0.062892</td>\n",
       "      <td>6.776640e+07</td>\n",
       "      <td>0.0</td>\n",
       "      <td>0.0</td>\n",
       "    </tr>\n",
       "  </tbody>\n",
       "</table>\n",
       "</div>"
      ],
      "text/plain": [
       "                Open      High       Low     Close        Volume  Dividends  \\\n",
       "Date                                                                          \n",
       "1986-03-13       NaN       NaN       NaN       NaN           NaN        NaN   \n",
       "1986-03-14  0.055783  0.063987  0.055783  0.061252  1.031789e+09        0.0   \n",
       "1986-03-17  0.061252  0.064533  0.061252  0.063439  3.081600e+08        0.0   \n",
       "1986-03-18  0.063439  0.065080  0.063439  0.064533  1.331712e+08        0.0   \n",
       "1986-03-19  0.064533  0.065080  0.062345  0.062892  6.776640e+07        0.0   \n",
       "\n",
       "            Stock Splits  \n",
       "Date                      \n",
       "1986-03-13           NaN  \n",
       "1986-03-14           0.0  \n",
       "1986-03-17           0.0  \n",
       "1986-03-18           0.0  \n",
       "1986-03-19           0.0  "
      ]
     },
     "execution_count": 8,
     "metadata": {},
     "output_type": "execute_result"
    }
   ],
   "source": [
    "# Shift stock prices forward one day, so we're predicting tomorrow's stock prices from today's prices.\n",
    "msft_prev = msft_hist.copy()\n",
    "msft_prev = msft_prev.shift(1)\n",
    "msft_prev.head(5)"
   ]
  },
  {
   "cell_type": "code",
   "execution_count": 9,
   "id": "47a1cd7e",
   "metadata": {},
   "outputs": [
    {
     "data": {
      "text/html": [
       "<div>\n",
       "<style scoped>\n",
       "    .dataframe tbody tr th:only-of-type {\n",
       "        vertical-align: middle;\n",
       "    }\n",
       "\n",
       "    .dataframe tbody tr th {\n",
       "        vertical-align: top;\n",
       "    }\n",
       "\n",
       "    .dataframe thead th {\n",
       "        text-align: right;\n",
       "    }\n",
       "</style>\n",
       "<table border=\"1\" class=\"dataframe\">\n",
       "  <thead>\n",
       "    <tr style=\"text-align: right;\">\n",
       "      <th></th>\n",
       "      <th>Actual_Close</th>\n",
       "      <th>Target</th>\n",
       "      <th>Close</th>\n",
       "      <th>Volume</th>\n",
       "      <th>Open</th>\n",
       "      <th>High</th>\n",
       "      <th>Low</th>\n",
       "    </tr>\n",
       "    <tr>\n",
       "      <th>Date</th>\n",
       "      <th></th>\n",
       "      <th></th>\n",
       "      <th></th>\n",
       "      <th></th>\n",
       "      <th></th>\n",
       "      <th></th>\n",
       "      <th></th>\n",
       "    </tr>\n",
       "  </thead>\n",
       "  <tbody>\n",
       "    <tr>\n",
       "      <th>1986-03-14</th>\n",
       "      <td>0.063439</td>\n",
       "      <td>1.0</td>\n",
       "      <td>0.061252</td>\n",
       "      <td>1.031789e+09</td>\n",
       "      <td>0.055783</td>\n",
       "      <td>0.063987</td>\n",
       "      <td>0.055783</td>\n",
       "    </tr>\n",
       "    <tr>\n",
       "      <th>1986-03-17</th>\n",
       "      <td>0.064533</td>\n",
       "      <td>1.0</td>\n",
       "      <td>0.063439</td>\n",
       "      <td>3.081600e+08</td>\n",
       "      <td>0.061252</td>\n",
       "      <td>0.064533</td>\n",
       "      <td>0.061252</td>\n",
       "    </tr>\n",
       "    <tr>\n",
       "      <th>1986-03-18</th>\n",
       "      <td>0.062892</td>\n",
       "      <td>0.0</td>\n",
       "      <td>0.064533</td>\n",
       "      <td>1.331712e+08</td>\n",
       "      <td>0.063439</td>\n",
       "      <td>0.065080</td>\n",
       "      <td>0.063439</td>\n",
       "    </tr>\n",
       "    <tr>\n",
       "      <th>1986-03-19</th>\n",
       "      <td>0.061799</td>\n",
       "      <td>0.0</td>\n",
       "      <td>0.062892</td>\n",
       "      <td>6.776640e+07</td>\n",
       "      <td>0.064533</td>\n",
       "      <td>0.065080</td>\n",
       "      <td>0.062345</td>\n",
       "    </tr>\n",
       "    <tr>\n",
       "      <th>1986-03-20</th>\n",
       "      <td>0.060158</td>\n",
       "      <td>0.0</td>\n",
       "      <td>0.061799</td>\n",
       "      <td>4.789440e+07</td>\n",
       "      <td>0.062892</td>\n",
       "      <td>0.063439</td>\n",
       "      <td>0.061252</td>\n",
       "    </tr>\n",
       "  </tbody>\n",
       "</table>\n",
       "</div>"
      ],
      "text/plain": [
       "            Actual_Close  Target     Close        Volume      Open      High  \\\n",
       "Date                                                                           \n",
       "1986-03-14      0.063439     1.0  0.061252  1.031789e+09  0.055783  0.063987   \n",
       "1986-03-17      0.064533     1.0  0.063439  3.081600e+08  0.061252  0.064533   \n",
       "1986-03-18      0.062892     0.0  0.064533  1.331712e+08  0.063439  0.065080   \n",
       "1986-03-19      0.061799     0.0  0.062892  6.776640e+07  0.064533  0.065080   \n",
       "1986-03-20      0.060158     0.0  0.061799  4.789440e+07  0.062892  0.063439   \n",
       "\n",
       "                 Low  \n",
       "Date                  \n",
       "1986-03-14  0.055783  \n",
       "1986-03-17  0.061252  \n",
       "1986-03-18  0.063439  \n",
       "1986-03-19  0.062345  \n",
       "1986-03-20  0.061252  "
      ]
     },
     "execution_count": 9,
     "metadata": {},
     "output_type": "execute_result"
    }
   ],
   "source": [
    "# Create our training data\n",
    "\n",
    "# Set up our predictors\n",
    "# Predictors are the columns we want to use to make our predictions\n",
    "# These are the columns we are going to use to predict our target\n",
    "\n",
    "predictors = [\"Close\", \"Volume\", \"Open\", \"High\", \"Low\"]\n",
    "\n",
    "# Join those columns (aka \"predictors\") with the target (aka \"data\")\n",
    "data = data.join(msft_prev[predictors]).iloc[1:]\n",
    "# .iloc[1:] means we are only going to take row 1 and forwared becasue\n",
    "# there is no row before the first day microsoft was traded on.\n",
    "\n",
    "data.head(5)"
   ]
  },
  {
   "cell_type": "code",
   "execution_count": 10,
   "id": "900305a3",
   "metadata": {},
   "outputs": [],
   "source": [
    "# Training the Machine Learning Model "
   ]
  },
  {
   "cell_type": "code",
   "execution_count": 11,
   "id": "9e28282d",
   "metadata": {},
   "outputs": [
    {
     "name": "stdout",
     "output_type": "stream",
     "text": [
      "Requirement already satisfied: scikit-learn in c:\\users\\austi\\anaconda3\\lib\\site-packages (0.24.2)\n",
      "Requirement already satisfied: threadpoolctl>=2.0.0 in c:\\users\\austi\\anaconda3\\lib\\site-packages (from scikit-learn) (2.2.0)\n",
      "Requirement already satisfied: scipy>=0.19.1 in c:\\users\\austi\\anaconda3\\lib\\site-packages (from scikit-learn) (1.7.1)\n",
      "Requirement already satisfied: joblib>=0.11 in c:\\users\\austi\\anaconda3\\lib\\site-packages (from scikit-learn) (1.1.0)\n",
      "Requirement already satisfied: numpy>=1.13.3 in c:\\users\\austi\\anaconda3\\lib\\site-packages (from scikit-learn) (1.20.3)\n"
     ]
    }
   ],
   "source": [
    "# use the library called scikit-learn\n",
    "\n",
    "# this package has most common machine learning algorithms already implemented \n",
    "\n",
    "!pip install scikit-learn"
   ]
  },
  {
   "cell_type": "code",
   "execution_count": 12,
   "id": "7c1c7837",
   "metadata": {},
   "outputs": [
    {
     "data": {
      "text/plain": [
       "RandomForestClassifier(min_samples_split=200, random_state=1)"
      ]
     },
     "execution_count": 12,
     "metadata": {},
     "output_type": "execute_result"
    }
   ],
   "source": [
    "# We will be using a Classification Machine Learning Model\n",
    "\n",
    "# we are going to import a model from scikit-learn which is called random forest classifier \n",
    "# this is an algorithm consisting of many decisions tress. \n",
    "\n",
    "# Random forest classifier is a good \"default\" model for a lot of applications\n",
    "# because it can pick up nonlinear relationships in the data, and is somewhat robust to overfitting with the right parameters.\n",
    "\n",
    "# We are going to use a classification model instead of a regression model because our target is binary. \n",
    "# The target is a 0 or 1 - meaning that stock price will either go up or down. \n",
    "\n",
    "from sklearn.ensemble import RandomForestClassifier\n",
    "import numpy as np \n",
    "\n",
    "# Initialize the model and set parameters.\n",
    "# Paramaters allow us to set various past steps taken in the model\n",
    "\n",
    "## n_estimators=100 indicates how many individual deceision trees we want to train. \n",
    "# this means we want to train a 100 decision trees, and average their results to get our final result\n",
    "\n",
    "# random forest and decision trees can easily overfit the data.\n",
    "## min_samples_split, it prevents tree from fitting itself as tightly to the data. \n",
    "# The less tightly you're fitting, the better you can generalize to future data and the less you are going to overfit \n",
    "# So, model overfitting means the model performs really well on the training data, but really poorly on the test data and in the real world\n",
    "# We want our model to perform well in the real world, so we are avoiding fitting too tightly to the training data. \n",
    "\n",
    "## random_state - everytime you run the alogorithm, it will give you constant results. \n",
    "\n",
    "# Create a random forest classification model.  Set min_samples_split high to ensure we don't overfit.\n",
    "model = RandomForestClassifier(n_estimators=100, min_samples_split=200, random_state=1)\n",
    "\n",
    "# Create a train and test set\n",
    "\n",
    "#taking the whole dataset except the last 100 rows\n",
    "train = data.iloc[:-100]\n",
    "\n",
    "#Predict the last 100 rows \n",
    "test = data.iloc[-100:]\n",
    "\n",
    "# Something important when making predictions on the stock market data, is to keep the order of the data in mind. \n",
    "# So typically to evaluate error of your machine learning model, you are going to use cross validation. \n",
    "# The problem with cross validation here, is if you split the data up, sometimes cross validation used the later parts of the data \n",
    "# to predict the earlier parts. But here, you can't use data from 2020 to predict data that happned in 2019.\n",
    "# That is not realistic and is not going match the real world. You would get a model that looks awesome in training, \n",
    "# but would not be accurate for real life. \n",
    "\n",
    "# fit the model on our training dataset with our predictors. We are trying to fit it to the target. \n",
    "model.fit(train[predictors], train[\"Target\"])"
   ]
  },
  {
   "cell_type": "code",
   "execution_count": 13,
   "id": "02aa364e",
   "metadata": {},
   "outputs": [],
   "source": [
    "# Now we need to see how accurate our model was "
   ]
  },
  {
   "cell_type": "code",
   "execution_count": 14,
   "id": "0d1afc2f",
   "metadata": {},
   "outputs": [],
   "source": [
    "# scikit-learn has a function called \"precision score\" which calculates precision\n",
    "# It is identifying how many 'true positives' which only takes account of days the algorithm said \n",
    "# algorithm teh price would go up, and it actually did go up. Divided by every time the algorithm \n",
    "# the predicted the price to go up, regardless if it did or not. \n",
    "\n",
    "# we'll be using precision as our error metric for our algorithm, which is true positives / (false positives + true positives). \n",
    "# This will ensure that we minimize how much money we lose with false positives (days when we buy the stock, but the price actually goes down).\n",
    "# This is so we dont buy the stock thinking the price will go up the next day, but it actually goes down from where we bought it at and then we lose money. \n",
    "\n",
    "\n",
    "# this is the percentage of days where the alogrithm said the price would go up, and it actually did\n",
    "from sklearn.metrics import precision_score"
   ]
  },
  {
   "cell_type": "code",
   "execution_count": 15,
   "id": "c44f32b0",
   "metadata": {},
   "outputs": [
    {
     "data": {
      "text/plain": [
       "array([1., 1., 1., 1., 1., 0., 0., 0., 1., 1., 1., 1., 1., 1., 1., 0., 0.,\n",
       "       0., 0., 0., 0., 1., 1., 1., 1., 1., 1., 1., 1., 1., 1., 1., 1., 1.,\n",
       "       1., 1., 1., 0., 1., 1., 1., 1., 1., 1., 1., 1., 1., 1., 1., 1., 1.,\n",
       "       1., 1., 1., 1., 1., 1., 1., 1., 1., 1., 1., 1., 1., 1., 1., 1., 1.,\n",
       "       1., 1., 1., 1., 1., 1., 1., 1., 1., 1., 0., 1., 1., 1., 1., 1., 1.,\n",
       "       1., 1., 1., 1., 1., 1., 0., 1., 0., 0., 0., 1., 1., 1., 1.])"
      ]
     },
     "execution_count": 15,
     "metadata": {},
     "output_type": "execute_result"
    }
   ],
   "source": [
    "# Evaluate error of predictions. Now we can generage our predictions. \n",
    "\n",
    "# on the test set - which is just the last 100 rows of the data, these would be our predictions from the model\n",
    "preds = model.predict(test[predictors])\n",
    "preds "
   ]
  },
  {
   "cell_type": "code",
   "execution_count": 16,
   "id": "c589397c",
   "metadata": {},
   "outputs": [
    {
     "data": {
      "text/plain": [
       "Date\n",
       "2021-12-03    1.0\n",
       "2021-12-06    1.0\n",
       "2021-12-07    1.0\n",
       "2021-12-08    1.0\n",
       "2021-12-09    1.0\n",
       "             ... \n",
       "2022-04-21    0.0\n",
       "2022-04-22    1.0\n",
       "2022-04-25    1.0\n",
       "2022-04-26    1.0\n",
       "2022-04-27    1.0\n",
       "Length: 100, dtype: float64"
      ]
     },
     "execution_count": 16,
     "metadata": {},
     "output_type": "execute_result"
    }
   ],
   "source": [
    "# we can put these predictions into a pandas series. To calculate error, we need to look at our real values vs. our predicted values\n",
    "# turn these predictions into a pandas series which puts the dates (index) side-by-side with the predictions\n",
    "import pandas as pd\n",
    "\n",
    "preds = pd.Series(preds, index=test.index)\n",
    "preds"
   ]
  },
  {
   "cell_type": "code",
   "execution_count": 17,
   "id": "a19a6bf2",
   "metadata": {},
   "outputs": [
    {
     "data": {
      "text/plain": [
       "0.4823529411764706"
      ]
     },
     "execution_count": 17,
     "metadata": {},
     "output_type": "execute_result"
    }
   ],
   "source": [
    "# Evaluate error of predictions\n",
    "precision_score(test[\"Target\"], preds)\n",
    "\n",
    "# So our model is directionally accurate only 47% of the time."
   ]
  },
  {
   "cell_type": "code",
   "execution_count": 18,
   "id": "77e450de",
   "metadata": {},
   "outputs": [
    {
     "data": {
      "text/html": [
       "<div>\n",
       "<style scoped>\n",
       "    .dataframe tbody tr th:only-of-type {\n",
       "        vertical-align: middle;\n",
       "    }\n",
       "\n",
       "    .dataframe tbody tr th {\n",
       "        vertical-align: top;\n",
       "    }\n",
       "\n",
       "    .dataframe thead th {\n",
       "        text-align: right;\n",
       "    }\n",
       "</style>\n",
       "<table border=\"1\" class=\"dataframe\">\n",
       "  <thead>\n",
       "    <tr style=\"text-align: right;\">\n",
       "      <th></th>\n",
       "      <th>Target</th>\n",
       "      <th>Predictions</th>\n",
       "    </tr>\n",
       "    <tr>\n",
       "      <th>Date</th>\n",
       "      <th></th>\n",
       "      <th></th>\n",
       "    </tr>\n",
       "  </thead>\n",
       "  <tbody>\n",
       "    <tr>\n",
       "      <th>2021-12-03</th>\n",
       "      <td>0.0</td>\n",
       "      <td>1.0</td>\n",
       "    </tr>\n",
       "    <tr>\n",
       "      <th>2021-12-06</th>\n",
       "      <td>1.0</td>\n",
       "      <td>1.0</td>\n",
       "    </tr>\n",
       "    <tr>\n",
       "      <th>2021-12-07</th>\n",
       "      <td>1.0</td>\n",
       "      <td>1.0</td>\n",
       "    </tr>\n",
       "    <tr>\n",
       "      <th>2021-12-08</th>\n",
       "      <td>1.0</td>\n",
       "      <td>1.0</td>\n",
       "    </tr>\n",
       "    <tr>\n",
       "      <th>2021-12-09</th>\n",
       "      <td>0.0</td>\n",
       "      <td>1.0</td>\n",
       "    </tr>\n",
       "    <tr>\n",
       "      <th>...</th>\n",
       "      <td>...</td>\n",
       "      <td>...</td>\n",
       "    </tr>\n",
       "    <tr>\n",
       "      <th>2022-04-21</th>\n",
       "      <td>0.0</td>\n",
       "      <td>0.0</td>\n",
       "    </tr>\n",
       "    <tr>\n",
       "      <th>2022-04-22</th>\n",
       "      <td>0.0</td>\n",
       "      <td>1.0</td>\n",
       "    </tr>\n",
       "    <tr>\n",
       "      <th>2022-04-25</th>\n",
       "      <td>1.0</td>\n",
       "      <td>1.0</td>\n",
       "    </tr>\n",
       "    <tr>\n",
       "      <th>2022-04-26</th>\n",
       "      <td>0.0</td>\n",
       "      <td>1.0</td>\n",
       "    </tr>\n",
       "    <tr>\n",
       "      <th>2022-04-27</th>\n",
       "      <td>1.0</td>\n",
       "      <td>1.0</td>\n",
       "    </tr>\n",
       "  </tbody>\n",
       "</table>\n",
       "<p>100 rows × 2 columns</p>\n",
       "</div>"
      ],
      "text/plain": [
       "            Target  Predictions\n",
       "Date                           \n",
       "2021-12-03     0.0          1.0\n",
       "2021-12-06     1.0          1.0\n",
       "2021-12-07     1.0          1.0\n",
       "2021-12-08     1.0          1.0\n",
       "2021-12-09     0.0          1.0\n",
       "...            ...          ...\n",
       "2022-04-21     0.0          0.0\n",
       "2022-04-22     0.0          1.0\n",
       "2022-04-25     1.0          1.0\n",
       "2022-04-26     0.0          1.0\n",
       "2022-04-27     1.0          1.0\n",
       "\n",
       "[100 rows x 2 columns]"
      ]
     },
     "execution_count": 18,
     "metadata": {},
     "output_type": "execute_result"
    }
   ],
   "source": [
    "# combining our predictions with our actual target (whis is what really occured).\n",
    "# Target - actual values \n",
    "# Predictions - what the algorithm predicted \n",
    "\n",
    "combined = pd.concat({\"Target\": test[\"Target\"],\"Predictions\": preds}, axis=1)\n",
    "combined"
   ]
  },
  {
   "cell_type": "code",
   "execution_count": 19,
   "id": "6af78f89",
   "metadata": {},
   "outputs": [
    {
     "data": {
      "text/plain": [
       "<AxesSubplot:xlabel='Date'>"
      ]
     },
     "execution_count": 19,
     "metadata": {},
     "output_type": "execute_result"
    },
    {
     "data": {
      "image/png": "[encoded data removed]",
      "text/plain": [
       "<Figure size 432x288 with 1 Axes>"
      ]
     },
     "metadata": {
      "needs_background": "light"
     },
     "output_type": "display_data"
    }
   ],
   "source": [
    "# plot what the algorithm predicted vs what really happened \n",
    "combined.plot()"
   ]
  },
  {
   "cell_type": "code",
   "execution_count": 20,
   "id": "1f41cf5d",
   "metadata": {},
   "outputs": [],
   "source": [
    "# Creating a Backtesting Engine \n",
    "# What backtesting does is getting us from only predicting 100 rows, to predicting most of the dataset. \n",
    "# This will give us a really robust error metric. \n",
    "\n",
    "# we want an error metric that is representative of the enire dataset, because then we can be confident that it can be applied into the future.\n",
    "# Versus a small sample of the data. \n",
    "\n",
    "# backtesting involves looping over the data, splitting the data up, then training a model ever so often and using it to predict the next few row. \n",
    "# For example, we might take the first 1,000 rows, use that the predict the next 1,000 rows. \n",
    "# Then take the first next 2,000 rows, use that to predict the next 1,000 rows and so on.. until we predict the whole dataset. \n",
    "\n",
    "#Backtesting Loop\n",
    "# we start at row 1000\n",
    "# then were going to train the model on data from row 0 to row 1000\n",
    "# Then were going to make predictions from row 1000 to row 1750 and so on..\n",
    "\n",
    "# This is looping over our entire dataset - starting at row 1,000\n",
    "# Making predictions evey 750 rows for the next 750 rows \n",
    "\n",
    "\n",
    "def backtest(data, model, predictors, start=1000, step=750):\n",
    "    predictions = []\n",
    "    # Loop over the dataset in increments\n",
    "    for i in range(start, data.shape[0], step):\n",
    "        # Split into train and test sets\n",
    "        train = data.iloc[0:i].copy()\n",
    "        test = data.iloc[i:(i+step)].copy()\n",
    "        \n",
    "        # Fit the random forest model\n",
    "        model.fit(train[predictors], train[\"Target\"])\n",
    "        \n",
    "        # Make predictions\n",
    "        preds = model.predict_proba(test[predictors])[:,1]\n",
    "        preds = pd.Series(preds, index=test.index)\n",
    "        preds[preds > .6] = 1\n",
    "        preds[preds<=.6] = 0\n",
    "        \n",
    "        # Combine predictions and test values\n",
    "        combined = pd.concat({\"Target\": test[\"Target\"],\"Predictions\": preds}, axis=1)\n",
    "        \n",
    "        predictions.append(combined)\n",
    "    \n",
    "    return pd.concat(predictions)"
   ]
  },
  {
   "cell_type": "code",
   "execution_count": 21,
   "id": "e0e8e413",
   "metadata": {},
   "outputs": [],
   "source": [
    "predictions = backtest(data, model, predictors)"
   ]
  },
  {
   "cell_type": "code",
   "execution_count": 22,
   "id": "533d4059",
   "metadata": {},
   "outputs": [
    {
     "data": {
      "text/plain": [
       "0.0    7354\n",
       "1.0     751\n",
       "Name: Predictions, dtype: int64"
      ]
     },
     "execution_count": 22,
     "metadata": {},
     "output_type": "execute_result"
    }
   ],
   "source": [
    "# On 7,433 days we predicted the price to go down \n",
    "# On 670 days we predicted the price to go up \n",
    "\n",
    "# There are not a lot of days that we are preidicting to go up becasue we set the \n",
    "# threshold at 60%. \n",
    "\n",
    "# Although we are predicting less days, the hope is to predict with accuracy.\n",
    "# we are tyring to maximize our precision\n",
    "\n",
    "predictions[\"Predictions\"].value_counts()"
   ]
  },
  {
   "cell_type": "code",
   "execution_count": 23,
   "id": "1479750f",
   "metadata": {},
   "outputs": [
    {
     "data": {
      "text/plain": [
       "0.4993342210386152"
      ]
     },
     "execution_count": 23,
     "metadata": {},
     "output_type": "execute_result"
    }
   ],
   "source": [
    "precision_score(predictions[\"Target\"], predictions[\"Predictions\"])"
   ]
  },
  {
   "cell_type": "code",
   "execution_count": 24,
   "id": "b9644ff0",
   "metadata": {},
   "outputs": [],
   "source": [
    "# Currently our precision score is 49%.\n",
    "# This means that whenver we predict the price to go up, there is only a 49% chance that the prediction is accurate"
   ]
  },
  {
   "cell_type": "code",
   "execution_count": 25,
   "id": "7135b2b1",
   "metadata": {},
   "outputs": [],
   "source": [
    "# How can we improve our accuracy? By adding more predictors \n",
    "\n",
    "# Provide the algorithm with some ratios\n",
    "\n",
    "# between what the weekly average price is and the closing price\n",
    "# between what the quarterly average price is and the closing price\n",
    "# between what annual average price is and the close price\n",
    "# we can look the weekly trend to see in the past 7 days, on average what was the percentage chance that the price would go up\n",
    "\n",
    "weekly_mean = data.rolling(7).mean()\n",
    "quarterly_mean = data.rolling(90).mean()\n",
    "annual_mean = data.rolling(365).mean()\n",
    "weekly_trend = data.shift(1).rolling(7).mean()[\"Target\"]"
   ]
  },
  {
   "cell_type": "code",
   "execution_count": 26,
   "id": "c23dfe3d",
   "metadata": {},
   "outputs": [],
   "source": [
    "#assign these ratios to different columns in our dataframe \n",
    "\n",
    "# average weekly price / daily closing price \n",
    "data[\"weekly_mean\"] = weekly_mean[\"Close\"] / data[\"Close\"]\n",
    "# average quarterly price / daily closing price \n",
    "data[\"quarterly_mean\"] = quarterly_mean[\"Close\"] / data[\"Close\"]\n",
    "# average annual price / daily closing price \n",
    "data[\"annual_mean\"] = annual_mean[\"Close\"] / data[\"Close\"]\n",
    "\n",
    "\n",
    "data[\"annual_weekly_mean\"] = data[\"annual_mean\"] / data[\"weekly_mean\"]\n",
    "data[\"annual_quarterly_mean\"] = data[\"annual_mean\"] / data[\"quarterly_mean\"]\n",
    "data[\"weekly_trend\"] = weekly_trend\n",
    "\n",
    "#this helps the algorithm understand trends \n",
    "data[\"open_close_ratio\"] = data[\"Open\"] / data[\"Close\"]\n",
    "data[\"high_close_ratio\"] = data[\"High\"] / data[\"Close\"]\n",
    "data[\"low_close_ratio\"] = data[\"Low\"] / data[\"Close\"]"
   ]
  },
  {
   "cell_type": "code",
   "execution_count": 27,
   "id": "d6154000",
   "metadata": {},
   "outputs": [],
   "source": [
    "full_predictors = predictors + [\"weekly_mean\", \"quarterly_mean\", \"annual_mean\", \n",
    "                                \"annual_weekly_mean\", \"annual_quarterly_mean\", \n",
    "                                \"open_close_ratio\", \"high_close_ratio\", \"low_close_ratio\", \n",
    "                                \"weekly_trend\"]\n",
    "\n",
    "predictions = backtest(data.iloc[365:], model, full_predictors)"
   ]
  },
  {
   "cell_type": "code",
   "execution_count": 28,
   "id": "b3511b25",
   "metadata": {},
   "outputs": [
    {
     "data": {
      "text/plain": [
       "0.0    7537\n",
       "1.0     203\n",
       "Name: Predictions, dtype: int64"
      ]
     },
     "execution_count": 28,
     "metadata": {},
     "output_type": "execute_result"
    }
   ],
   "source": [
    "# Show how many trades we would make. We'd be trading on fewer days, however\n",
    "# our algorithm will be making more accurate predictions\n",
    "\n",
    "predictions[\"Predictions\"].value_counts()"
   ]
  },
  {
   "cell_type": "code",
   "execution_count": 29,
   "id": "20900655",
   "metadata": {},
   "outputs": [
    {
     "data": {
      "text/plain": [
       "0.6059113300492611"
      ]
     },
     "execution_count": 29,
     "metadata": {},
     "output_type": "execute_result"
    }
   ],
   "source": [
    "precision_score(predictions[\"Target\"], predictions[\"Predictions\"])"
   ]
  },
  {
   "cell_type": "code",
   "execution_count": 30,
   "id": "8342cf68",
   "metadata": {},
   "outputs": [
    {
     "data": {
      "text/plain": [
       "<AxesSubplot:xlabel='Date'>"
      ]
     },
     "execution_count": 30,
     "metadata": {},
     "output_type": "execute_result"
    },
    {
     "data": {
      "image/png": "[encoded data removed]",
      "text/plain": [
       "<Figure size 432x288 with 1 Axes>"
      ]
     },
     "metadata": {
      "needs_background": "light"
     },
     "output_type": "display_data"
    }
   ],
   "source": [
    "predictions.iloc[-100:].plot()"
   ]
  },
  {
   "cell_type": "code",
   "execution_count": 31,
   "id": "987e9593",
   "metadata": {},
   "outputs": [
    {
     "data": {
      "text/html": [
       "<div>\n",
       "<style scoped>\n",
       "    .dataframe tbody tr th:only-of-type {\n",
       "        vertical-align: middle;\n",
       "    }\n",
       "\n",
       "    .dataframe tbody tr th {\n",
       "        vertical-align: top;\n",
       "    }\n",
       "\n",
       "    .dataframe thead th {\n",
       "        text-align: right;\n",
       "    }\n",
       "</style>\n",
       "<table border=\"1\" class=\"dataframe\">\n",
       "  <thead>\n",
       "    <tr style=\"text-align: right;\">\n",
       "      <th></th>\n",
       "      <th>Target</th>\n",
       "      <th>Predictions</th>\n",
       "    </tr>\n",
       "    <tr>\n",
       "      <th>Date</th>\n",
       "      <th></th>\n",
       "      <th></th>\n",
       "    </tr>\n",
       "  </thead>\n",
       "  <tbody>\n",
       "    <tr>\n",
       "      <th>1991-08-07</th>\n",
       "      <td>1.0</td>\n",
       "      <td>0.0</td>\n",
       "    </tr>\n",
       "    <tr>\n",
       "      <th>1991-08-08</th>\n",
       "      <td>1.0</td>\n",
       "      <td>0.0</td>\n",
       "    </tr>\n",
       "    <tr>\n",
       "      <th>1991-08-09</th>\n",
       "      <td>1.0</td>\n",
       "      <td>0.0</td>\n",
       "    </tr>\n",
       "    <tr>\n",
       "      <th>1991-08-12</th>\n",
       "      <td>1.0</td>\n",
       "      <td>0.0</td>\n",
       "    </tr>\n",
       "    <tr>\n",
       "      <th>1991-08-13</th>\n",
       "      <td>0.0</td>\n",
       "      <td>0.0</td>\n",
       "    </tr>\n",
       "    <tr>\n",
       "      <th>...</th>\n",
       "      <td>...</td>\n",
       "      <td>...</td>\n",
       "    </tr>\n",
       "    <tr>\n",
       "      <th>2022-04-21</th>\n",
       "      <td>0.0</td>\n",
       "      <td>0.0</td>\n",
       "    </tr>\n",
       "    <tr>\n",
       "      <th>2022-04-22</th>\n",
       "      <td>0.0</td>\n",
       "      <td>1.0</td>\n",
       "    </tr>\n",
       "    <tr>\n",
       "      <th>2022-04-25</th>\n",
       "      <td>1.0</td>\n",
       "      <td>1.0</td>\n",
       "    </tr>\n",
       "    <tr>\n",
       "      <th>2022-04-26</th>\n",
       "      <td>0.0</td>\n",
       "      <td>0.0</td>\n",
       "    </tr>\n",
       "    <tr>\n",
       "      <th>2022-04-27</th>\n",
       "      <td>1.0</td>\n",
       "      <td>1.0</td>\n",
       "    </tr>\n",
       "  </tbody>\n",
       "</table>\n",
       "<p>7740 rows × 2 columns</p>\n",
       "</div>"
      ],
      "text/plain": [
       "            Target  Predictions\n",
       "Date                           \n",
       "1991-08-07     1.0          0.0\n",
       "1991-08-08     1.0          0.0\n",
       "1991-08-09     1.0          0.0\n",
       "1991-08-12     1.0          0.0\n",
       "1991-08-13     0.0          0.0\n",
       "...            ...          ...\n",
       "2022-04-21     0.0          0.0\n",
       "2022-04-22     0.0          1.0\n",
       "2022-04-25     1.0          1.0\n",
       "2022-04-26     0.0          0.0\n",
       "2022-04-27     1.0          1.0\n",
       "\n",
       "[7740 rows x 2 columns]"
      ]
     },
     "execution_count": 31,
     "metadata": {},
     "output_type": "execute_result"
    }
   ],
   "source": [
    "predictions"
   ]
  }
 ],
 "metadata": {
  "kernelspec": {
   "display_name": "Python 3 (ipykernel)",
   "language": "python",
   "name": "python3"
  },
  "language_info": {
   "codemirror_mode": {
    "name": "ipython",
    "version": 3
   },
   "file_extension": ".py",
   "mimetype": "text/x-python",
   "name": "python",
   "nbconvert_exporter": "python",
   "pygments_lexer": "ipython3",
   "version": "3.9.7"
  }
 },
 "nbformat": 4,
 "nbformat_minor": 5
}
